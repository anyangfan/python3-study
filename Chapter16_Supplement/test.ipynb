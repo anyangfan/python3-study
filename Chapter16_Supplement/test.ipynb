{
 "cells": [
  {
   "cell_type": "code",
   "execution_count": 23,
   "metadata": {},
   "outputs": [
    {
     "name": "stdout",
     "output_type": "stream",
     "text": [
      "('pychecker', '-Q', '/userdata/Desktop/Python/python3-study/Chapter16_Supplement/my_math.py')\n"
     ]
    }
   ],
   "source": [
    "import my_math\n",
    "import unittest\n",
    "from subprocess import Popen, PIPE\n",
    "cmd = 'pychecker', '-Q', my_math.__file__.rstrip('c')\n",
    "print(cmd)"
   ]
  },
  {
   "cell_type": "code",
   "execution_count": 24,
   "metadata": {},
   "outputs": [
    {
     "name": "stdout",
     "output_type": "stream",
     "text": [
      "Warnings\n",
      "b''\n"
     ]
    }
   ],
   "source": [
    "pychecker = Popen(cmd, stdout=PIPE, stderr=PIPE)\n",
    "if(pychecker.stdout.read()==''):\n",
    "    print(\"No warnings\")\n",
    "else:\n",
    "    print(\"Warnings\")\n",
    "    stdout, stderr = pychecker.communicate()\n",
    "    print(stdout)"
   ]
  },
  {
   "cell_type": "code",
   "execution_count": null,
   "metadata": {},
   "outputs": [],
   "source": []
  }
 ],
 "metadata": {
  "kernelspec": {
   "display_name": "Python 3",
   "language": "python",
   "name": "python3"
  },
  "language_info": {
   "codemirror_mode": {
    "name": "ipython",
    "version": 3
   },
   "file_extension": ".py",
   "mimetype": "text/x-python",
   "name": "python",
   "nbconvert_exporter": "python",
   "pygments_lexer": "ipython3",
   "version": "3.8.19"
  }
 },
 "nbformat": 4,
 "nbformat_minor": 2
}
