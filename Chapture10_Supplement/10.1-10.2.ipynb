{
 "cells": [
  {
   "cell_type": "code",
   "execution_count": 1,
   "metadata": {},
   "outputs": [
    {
     "name": "stdout",
     "output_type": "stream",
     "text": [
      "['/userdata/Desktop/Python/python3-study/Chapture10_Supplement',\n",
      " '/userdata/Li/miniconda3/envs/python_study/lib/python38.zip',\n",
      " '/userdata/Li/miniconda3/envs/python_study/lib/python3.8',\n",
      " '/userdata/Li/miniconda3/envs/python_study/lib/python3.8/lib-dynload',\n",
      " '',\n",
      " '/userdata/Li/miniconda3/envs/python_study/lib/python3.8/site-packages']\n"
     ]
    }
   ],
   "source": [
    "#10.1.3-1\n",
    "import sys,pprint\n",
    "pprint.pprint(sys.path)"
   ]
  },
  {
   "cell_type": "code",
   "execution_count": 17,
   "metadata": {},
   "outputs": [
    {
     "name": "stdout",
     "output_type": "stream",
     "text": [
      "['Error',\n",
      " '__all__',\n",
      " '__builtins__',\n",
      " '__cached__',\n",
      " '__doc__',\n",
      " '__file__',\n",
      " '__loader__',\n",
      " '__name__',\n",
      " '__package__',\n",
      " '__spec__',\n",
      " '_copy_dispatch',\n",
      " '_copy_immutable',\n",
      " '_deepcopy_atomic',\n",
      " '_deepcopy_dict',\n",
      " '_deepcopy_dispatch',\n",
      " '_deepcopy_list',\n",
      " '_deepcopy_method',\n",
      " '_deepcopy_tuple',\n",
      " '_keep_alive',\n",
      " '_reconstruct',\n",
      " 'copy',\n",
      " 'deepcopy',\n",
      " 'dispatch_table',\n",
      " 'error']\n",
      "\n",
      "\n",
      "['Error', 'copy', 'deepcopy']\n"
     ]
    }
   ],
   "source": [
    "#10.2.1-1\n",
    "import copy,pprint\n",
    "pprint.pprint(dir(copy))\n",
    "#打印空行\n",
    "print()\n",
    "[n for n in dir(copy) if not n.startswith('_')]\n",
    "print()\n",
    "pprint.pprint(copy.__all__)"
   ]
  },
  {
   "cell_type": "code",
   "execution_count": 19,
   "metadata": {},
   "outputs": [
    {
     "name": "stdout",
     "output_type": "stream",
     "text": [
      "Help on function copy in module copy:\n",
      "\n",
      "copy(x)\n",
      "    Shallow copy operation on arbitrary Python objects.\n",
      "    \n",
      "    See the module's __doc__ string for more info.\n",
      "\n",
      "None\n",
      "Shallow copy operation on arbitrary Python objects.\n",
      "\n",
      "    See the module's __doc__ string for more info.\n",
      "    \n"
     ]
    }
   ],
   "source": [
    "#10.2.2\n",
    "pprint.pprint(help(copy.copy))\n",
    "print(copy.copy.__doc__)"
   ]
  }
 ],
 "metadata": {
  "kernelspec": {
   "display_name": "Python 3",
   "language": "python",
   "name": "python3"
  },
  "language_info": {
   "codemirror_mode": {
    "name": "ipython",
    "version": 3
   },
   "file_extension": ".py",
   "mimetype": "text/x-python",
   "name": "python",
   "nbconvert_exporter": "python",
   "pygments_lexer": "ipython3",
   "version": "3.8.19"
  }
 },
 "nbformat": 4,
 "nbformat_minor": 2
}
