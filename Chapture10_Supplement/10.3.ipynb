{
 "cells": [
  {
   "cell_type": "code",
   "execution_count": null,
   "metadata": {},
   "outputs": [],
   "source": [
    "#10.3.4.2\n",
    "from heapq import *\n",
    "from random import shuffle\n",
    "data = list(range(10))\n",
    "shuffle(data)\n",
    "'''\n",
    "shuffle(data)是一个Python内置函数，用于将列表中的元素随机打乱顺序。\n",
    "在这个例子中，列表data包含了0到9这10个元素，shuffle(data)会随机打乱这些元素的顺序，\n",
    "使得data中的元素排列顺序是随机的。\n",
    "'''\n",
    "heap = []\n",
    "for i in data:\n",
    "    heappush(heap, i)\n",
    "print(heap)\n",
    "heappush(heap, 0.5)\n",
    "print(heap)"
   ]
  },
  {
   "cell_type": "code",
   "execution_count": 6,
   "metadata": {},
   "outputs": [
    {
     "name": "stdout",
     "output_type": "stream",
     "text": [
      "Fri Jan  5 06:46:58 2018\n"
     ]
    }
   ],
   "source": [
    "#10.3.6-1\n",
    "from random import *\n",
    "from time import *\n",
    "date1 = (2008, 1, 1, 0, 0, 0, -1, -1, -1)\n",
    "time1 = mktime(date1)\n",
    "date2 = (2024, 1, 1, 0, 0, 0, -1, -1, -1)\n",
    "time2 = mktime(date2)\n",
    "random_time = uniform(time1, time2)\n",
    "print(asctime(localtime(random_time)))"
   ]
  },
  {
   "cell_type": "code",
   "execution_count": 7,
   "metadata": {},
   "outputs": [
    {
     "name": "stdout",
     "output_type": "stream",
     "text": [
      "The result is 18\n"
     ]
    }
   ],
   "source": [
    "#10.3.6-2\n",
    "from random import *\n",
    "num = int(input('How much dice you want to roll? '))\n",
    "sides = int(input('How much sides does the dice have? '))\n",
    "sum = 0\n",
    "for i in range(num):\n",
    "    sum += randint(1, sides)\n",
    "print('The result is', sum)"
   ]
  },
  {
   "cell_type": "code",
   "execution_count": 24,
   "metadata": {},
   "outputs": [
    {
     "name": "stdout",
     "output_type": "stream",
     "text": [
      "当前程序的完成路径为: /userdata/Li/miniconda3/envs/python_study/lib/python3.8/site-packages/ipykernel_launcher.py\n",
      "['\"', '\"', '\"', 'E', 'n', 't', 'r', 'y', ' ', 'p', 'o', 'i', 'n', 't', ' ', 'f', 'o', 'r', ' ', 'l', 'a', 'u', 'n', 'c', 'h', 'i', 'n', 'g', ' ', 'a', 'n', ' ', 'I', 'P', 'y', 't', 'h', 'o', 'n', ' ', 'k', 'e', 'r', 'n', 'e', 'l', '.', '\\n', '\\n', 'T', 'h', 'i', 's', ' ', 'i', 's', ' ', 's', 'e', 'p', 'a', 'r', 'a', 't', 'e', ' ', 'f', 'r', 'o', 'm', ' ', 't', 'h', 'e', ' ', 'i', 'p', 'y', 'k', 'e', 'r', 'n', 'e', 'l', ' ', 'p', 'a', 'c', 'k', 'a', 'g', 'e', ' ', 's', 'o', ' ', 'w', 'e', ' ', 'c', 'a', 'n', ' ', 'a', 'v', 'o', 'i', 'd', ' ', 'd', 'o', 'i', 'n', 'g', ' ', 'i', 'm', 'p', 'o', 'r', 't', 's', ' ', 'u', 'n', 't', 'i', 'l', '\\n', 'a', 'f', 't', 'e', 'r', ' ', 'r', 'e', 'm', 'o', 'v', 'i', 'n', 'g', ' ', 't', 'h', 'e', ' ', 'c', 'w', 'd', ' ', 'f', 'r', 'o', 'm', ' ', 's', 'y', 's', '.', 'p', 'a', 't', 'h', '.', '\\n', '\"', '\"', '\"', '\\n', '\\n', 'i', 'm', 'p', 'o', 'r', 't', ' ', 's', 'y', 's', '\\n', 'f', 'r', 'o', 'm', ' ', 'p', 'a', 't', 'h', 'l', 'i', 'b', ' ', 'i', 'm', 'p', 'o', 'r', 't', ' ', 'P', 'a', 't', 'h', '\\n', '\\n', 'i', 'f', ' ', '_', '_', 'n', 'a', 'm', 'e', '_', '_', ' ', '=', '=', ' ', '\"', '_', '_', 'm', 'a', 'i', 'n', '_', '_', '\"', ':', '\\n', ' ', ' ', ' ', ' ', '#', ' ', 'R', 'e', 'm', 'o', 'v', 'e', ' ', 't', 'h', 'e', ' ', 'C', 'W', 'D', ' ', 'f', 'r', 'o', 'm', ' ', 's', 'y', 's', '.', 'p', 'a', 't', 'h', ' ', 'w', 'h', 'i', 'l', 'e', ' ', 'w', 'e', ' ', 'l', 'o', 'a', 'd', ' ', 's', 't', 'u', 'f', 'f', '.', '\\n', ' ', ' ', ' ', ' ', '#', ' ', 'T', 'h', 'i', 's', ' ', 'i', 's', ' ', 'a', 'd', 'd', 'e', 'd', ' ', 'b', 'a', 'c', 'k', ' ', 'b', 'y', ' ', 'I', 'n', 't', 'e', 'r', 'a', 'c', 't', 'i', 'v', 'e', 'S', 'h', 'e', 'l', 'l', 'A', 'p', 'p', '.', 'i', 'n', 'i', 't', '_', 'p', 'a', 't', 'h', '(', ')', '\\n', ' ', ' ', ' ', ' ', 'i', 'f', ' ', 's', 'y', 's', '.', 'p', 'a', 't', 'h', '[', '0', ']', ' ', '=', '=', ' ', '\"', '\"', ' ', 'o', 'r', ' ', 'P', 'a', 't', 'h', '(', 's', 'y', 's', '.', 'p', 'a', 't', 'h', '[', '0', ']', ')', ' ', '=', '=', ' ', 'P', 'a', 't', 'h', '.', 'c', 'w', 'd', '(', ')', ':', '\\n', ' ', ' ', ' ', ' ', ' ', ' ', ' ', ' ', 'd', 'e', 'l', ' ', 's', 'y', 's', '.', 'p', 'a', 't', 'h', '[', '0', ']', '\\n', '\\n', ' ', ' ', ' ', ' ', 'f', 'r', 'o', 'm', ' ', 'i', 'p', 'y', 'k', 'e', 'r', 'n', 'e', 'l', ' ', 'i', 'm', 'p', 'o', 'r', 't', ' ', 'k', 'e', 'r', 'n', 'e', 'l', 'a', 'p', 'p', ' ', 'a', 's', ' ', 'a', 'p', 'p', '\\n', '\\n', ' ', ' ', ' ', ' ', 'a', 'p', 'p', '.', 'l', 'a', 'u', 'n', 'c', 'h', '_', 'n', 'e', 'w', '_', 'i', 'n', 's', 't', 'a', 'n', 'c', 'e', '(', ')', '\\n']\n",
      "_\n"
     ]
    }
   ],
   "source": [
    "#10.3.6-2\n",
    "\n",
    "import random\n",
    "import os\n",
    "import sys\n",
    "\n",
    "path = os.path.abspath(sys.argv[0])\n",
    "print(\"当前程序的完成路径为:\", path)\n",
    "\n",
    "file = open(path, 'r')\n",
    "text = file.read()\n",
    "fortunes = list(text)\n",
    "print(fortunes)\n",
    "file.close()\n",
    "print(random.choice(fortunes))\n"
   ]
  },
  {
   "cell_type": "code",
   "execution_count": null,
   "metadata": {},
   "outputs": [],
   "source": []
  },
  {
   "cell_type": "code",
   "execution_count": 7,
   "metadata": {},
   "outputs": [
    {
     "name": "stdout",
     "output_type": "stream",
     "text": [
      "['1 of diamonds',\n",
      " '1 of clubs',\n",
      " '1 of hearts',\n",
      " '1 of spades',\n",
      " '2 of diamonds',\n",
      " '2 of clubs',\n",
      " '2 of hearts',\n",
      " '2 of spades',\n",
      " '3 of diamonds',\n",
      " '3 of clubs',\n",
      " '3 of hearts',\n",
      " '3 of spades']\n",
      "['Queen of spades',\n",
      " 'King of clubs',\n",
      " '3 of diamonds',\n",
      " '9 of hearts',\n",
      " 'Jack of clubs',\n",
      " '8 of hearts',\n",
      " '5 of hearts',\n",
      " '1 of spades',\n",
      " '5 of clubs',\n",
      " '2 of diamonds',\n",
      " '1 of hearts',\n",
      " '10 of hearts']\n"
     ]
    },
    {
     "name": "stdout",
     "output_type": "stream",
     "text": [
      "9 of spades\n",
      "2 of spades\n",
      "3 of clubs\n",
      "7 of diamonds\n",
      "9 of clubs\n",
      "Queen of clubs\n",
      "3 of hearts\n",
      "King of hearts\n",
      "Jack of hearts\n",
      "King of diamonds\n",
      "6 of hearts\n"
     ]
    }
   ],
   "source": [
    "from pprint import pprint\n",
    "import random\n",
    "\n",
    "values = list(range(1, 11)) + 'Jack Queen King'.split()\n",
    "suits = 'diamonds clubs hearts spades'.split()\n",
    "deck = ['%s of %s' % (v, s) for v in values for s in suits]\n",
    "pprint(deck[:12])\n",
    "random.shuffle(deck)\n",
    "pprint(deck[:12])\n",
    "while deck:\n",
    "    \n",
    "    ignore = input('Press Enter to draw a card, or Q + Enter to quit: ')\n",
    "    if ignore.lower() == 'q':\n",
    "        break\n",
    "    print(deck.pop())\n",
    "    if len(deck) == 0:\n",
    "        break"
   ]
  },
  {
   "cell_type": "code",
   "execution_count": null,
   "metadata": {},
   "outputs": [],
   "source": [
    "import fileinput, re\n",
    "pat = re.compile(r'[a-z\\-\\.]+@[a-z\\-\\.]+', re.IGNORECASE)\n",
    "'''\n",
    "re.IGNORECASE是一个标记，它表示在匹配时不区分大小写。这样，无论是大写字母还是小写字母，都可以匹配成功。\n",
    "'''\n",
    "addresses = set()\n",
    "for line in fileinput.input():\n",
    "    for address in pat.findall(line):\n",
    "        addresses.add(address)\n",
    "for address in sorted(addresses):\n",
    "    print(address)"
   ]
  }
 ],
 "metadata": {
  "kernelspec": {
   "display_name": "Python 3",
   "language": "python",
   "name": "python3"
  },
  "language_info": {
   "codemirror_mode": {
    "name": "ipython",
    "version": 3
   },
   "file_extension": ".py",
   "mimetype": "text/x-python",
   "name": "python",
   "nbconvert_exporter": "python",
   "pygments_lexer": "ipython3",
   "version": "3.8.19"
  }
 },
 "nbformat": 4,
 "nbformat_minor": 2
}
