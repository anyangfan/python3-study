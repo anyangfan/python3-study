{
 "cells": [
  {
   "cell_type": "code",
   "execution_count": null,
   "metadata": {},
   "outputs": [],
   "source": [
    "import json\n",
    "import logging.config\n",
    "import os\n",
    "\n",
    "def setup_logging(default_path = \"logging.json\",default_level = logging.INFO,env_key = \"LOG_CFG\"):\n",
    "    path = default_path\n",
    "    value = os.getenv(env_key,None)\n",
    "    if value:\n",
    "        path = value\n",
    "    if os.path.exists(path):\n",
    "        with open(path,'rt') as f:\n",
    "            config = json.load(f)\n",
    "        logging.config.dictConfig(config)\n",
    "    else:\n",
    "        logging.basicConfig(level = default_level)\n",
    "\n",
    "def func():\n",
    "    logging.info(\"start func\")\n",
    " \n",
    "    logging.info(\"exec func\")\n",
    " \n",
    "    logging.info(\"end func\")\n",
    " \n"
   ]
  },
  {
   "cell_type": "code",
   "execution_count": null,
   "metadata": {},
   "outputs": [],
   "source": [
    "if __name__ == \"__main__\":\n",
    "    setup_logging(default_path = \"logging.json\")\n",
    "    func()"
   ]
  },
  {
   "cell_type": "code",
   "execution_count": 1,
   "metadata": {},
   "outputs": [
    {
     "name": "stdout",
     "output_type": "stream",
     "text": [
      "2024-07-01 09:45:34,124 - root [line:18] - INFO - start func\n",
      "2024-07-01 09:45:34,135 - root [line:20] - INFO - exec func\n",
      "2024-07-01 09:45:34,140 - root [line:22] - INFO - end func\n"
     ]
    }
   ],
   "source": [
    "import json\n",
    "import logging.config\n",
    "import os\n",
    " \n",
    "def setup_logging(default_path = \"logging.json\",default_level = logging.INFO,env_key = \"LOG_CFG\"):\n",
    "    path = default_path\n",
    "    value = os.getenv(env_key,None)\n",
    "    if value:\n",
    "        path = value\n",
    "    if os.path.exists(path):\n",
    "        with open(path,\"r+\") as f:\n",
    "            config = json.load(f)\n",
    "            logging.config.dictConfig(config)\n",
    "    else:\n",
    "        logging.basicConfig(level = default_level)\n",
    " \n",
    "def func():\n",
    "    logging.info(\"start func\")\n",
    " \n",
    "    logging.info(\"exec func\")\n",
    " \n",
    "    logging.info(\"end func\")\n",
    " \n",
    "if __name__ == \"__main__\":\n",
    "    setup_logging(default_path = \"logging.json\")\n",
    "    func()"
   ]
  }
 ],
 "metadata": {
  "kernelspec": {
   "display_name": "Python 3",
   "language": "python",
   "name": "python3"
  },
  "language_info": {
   "codemirror_mode": {
    "name": "ipython",
    "version": 3
   },
   "file_extension": ".py",
   "mimetype": "text/x-python",
   "name": "python",
   "nbconvert_exporter": "python",
   "pygments_lexer": "ipython3",
   "version": "3.8.19"
  }
 },
 "nbformat": 4,
 "nbformat_minor": 2
}
