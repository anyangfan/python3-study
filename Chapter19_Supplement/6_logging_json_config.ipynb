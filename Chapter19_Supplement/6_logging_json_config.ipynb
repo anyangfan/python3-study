{
 "cells": [
  {
   "cell_type": "code",
   "execution_count": null,
   "metadata": {},
   "outputs": [],
   "source": [
    "import json\n",
    "import logging.config\n",
    "import os\n",
    "\n",
    "def setup_logging(default_path = \"logging.json\",default_level = logging.INFO,env_key = \"LOG_CFG\"):\n",
    "    path = default_path\n",
    "    value = os.getenv(env_key,None)\n",
    "    if value:\n",
    "        path = value\n",
    "    if os.path.exists(path):\n",
    "        with open(path,'rt') as f:\n",
    "            config = json.load(f)\n",
    "        logging.config.dictConfig(config)\n",
    "    else:\n",
    "        logging.basicConfig(level = default_level)\n",
    "\n",
    "def func():\n",
    "    logging.info(\"start func\")\n",
    " \n",
    "    logging.info(\"exec func\")\n",
    " \n",
    "    logging.info(\"end func\")\n",
    " \n"
   ]
  },
  {
   "cell_type": "code",
   "execution_count": null,
   "metadata": {},
   "outputs": [],
   "source": [
    "if __name__ == \"__main__\":\n",
    "    setup_logging(default_path = \"logging.json\")\n",
    "    func()"
   ]
  },
  {
   "cell_type": "code",
   "execution_count": 4,
   "metadata": {},
   "outputs": [
    {
     "name": "stdout",
     "output_type": "stream",
     "text": [
      "2024-07-01 09:41:09,277 - root [line:18] - INFO - start func\n",
      "2024-07-01 09:41:09,285 - root [line:20] - INFO - exec func\n"
     ]
    },
    {
     "name": "stdout",
     "output_type": "stream",
     "text": [
      "2024-07-01 09:41:09,292 - root [line:22] - INFO - end func\n"
     ]
    },
    {
     "ename": "NameError",
     "evalue": "name 'my_module' is not defined",
     "output_type": "error",
     "traceback": [
      "\u001b[0;31m---------------------------------------------------------------------------\u001b[0m",
      "\u001b[0;31mNameError\u001b[0m                                 Traceback (most recent call last)",
      "Cell \u001b[0;32mIn[4], line 32\u001b[0m\n\u001b[1;32m     30\u001b[0m \u001b[38;5;28;01mif\u001b[39;00m \u001b[38;5;18m__name__\u001b[39m \u001b[38;5;241m==\u001b[39m \u001b[38;5;124m\"\u001b[39m\u001b[38;5;124m__main__\u001b[39m\u001b[38;5;124m\"\u001b[39m:\n\u001b[1;32m     31\u001b[0m     setup_logging(default_path \u001b[38;5;241m=\u001b[39m \u001b[38;5;124m\"\u001b[39m\u001b[38;5;124mlogging.json\u001b[39m\u001b[38;5;124m\"\u001b[39m)\n\u001b[0;32m---> 32\u001b[0m     \u001b[43mfunc\u001b[49m\u001b[43m(\u001b[49m\u001b[43m)\u001b[49m\n",
      "Cell \u001b[0;32mIn[4], line 24\u001b[0m, in \u001b[0;36mfunc\u001b[0;34m()\u001b[0m\n\u001b[1;32m     20\u001b[0m logging\u001b[38;5;241m.\u001b[39minfo(\u001b[38;5;124m\"\u001b[39m\u001b[38;5;124mexec func\u001b[39m\u001b[38;5;124m\"\u001b[39m)\n\u001b[1;32m     22\u001b[0m logging\u001b[38;5;241m.\u001b[39minfo(\u001b[38;5;124m\"\u001b[39m\u001b[38;5;124mend func\u001b[39m\u001b[38;5;124m\"\u001b[39m)\n\u001b[0;32m---> 24\u001b[0m \u001b[43mmy_module\u001b[49m\u001b[38;5;241m.\u001b[39minfo(\u001b[38;5;124m\"\u001b[39m\u001b[38;5;124mstart func\u001b[39m\u001b[38;5;124m\"\u001b[39m)\n",
      "\u001b[0;31mNameError\u001b[0m: name 'my_module' is not defined"
     ]
    }
   ],
   "source": [
    "import json\n",
    "import logging.config\n",
    "import os\n",
    " \n",
    "def setup_logging(default_path = \"logging.json\",default_level = logging.INFO,env_key = \"LOG_CFG\"):\n",
    "    path = default_path\n",
    "    value = os.getenv(env_key,None)\n",
    "    if value:\n",
    "        path = value\n",
    "    if os.path.exists(path):\n",
    "        with open(path,\"r+\") as f:\n",
    "            config = json.load(f)\n",
    "            logging.config.dictConfig(config)\n",
    "    else:\n",
    "        logging.basicConfig(level = default_level)\n",
    " \n",
    "def func():\n",
    "    logging.info(\"start func\")\n",
    " \n",
    "    logging.info(\"exec func\")\n",
    " \n",
    "    logging.info(\"end func\")\n",
    " \n",
    "if __name__ == \"__main__\":\n",
    "    setup_logging(default_path = \"logging.json\")\n",
    "    func()"
   ]
  }
 ],
 "metadata": {
  "kernelspec": {
   "display_name": "Python 3",
   "language": "python",
   "name": "python3"
  },
  "language_info": {
   "codemirror_mode": {
    "name": "ipython",
    "version": 3
   },
   "file_extension": ".py",
   "mimetype": "text/x-python",
   "name": "python",
   "nbconvert_exporter": "python",
   "pygments_lexer": "ipython3",
   "version": "3.8.19"
  }
 },
 "nbformat": 4,
 "nbformat_minor": 2
}
