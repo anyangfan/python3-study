{
 "cells": [
  {
   "cell_type": "code",
   "execution_count": 1,
   "metadata": {},
   "outputs": [],
   "source": [
    "import logging \n",
    "import subModule\n",
    "logging.basicConfig(level=logging.DEBUG, format='%(asctime)s - %(name)s [line:%(lineno)d]- %(levelname)s - %(message)s')\n",
    "logger = logging.getLogger(\"mainModule\")\n",
    "\n",
    "handler = logging.FileHandler(\"./log_document/mainModule.log\")\n",
    "handler.setLevel(logging.DEBUG)\n",
    "formatter = logging.Formatter('%(asctime)s - %(name)s [line:%(lineno)d]- %(levelname)s - %(message)s')\n",
    "\n",
    "logger.addHandler(handler)"
   ]
  },
  {
   "cell_type": "code",
   "execution_count": 2,
   "metadata": {},
   "outputs": [
    {
     "name": "stderr",
     "output_type": "stream",
     "text": [
      "2024-07-01 09:05:43,110 - mainModule [line:1]- INFO - mainModule:creating an instance of subModule.subModuleClass\n",
      "2024-07-01 09:05:43,120 - mainModule.sub.module:mainModule.sub.module [line:7]- INFO - mainModule.sub.module:creating an instance in mainModule.sub.module\n",
      "2024-07-01 09:05:43,128 - mainModule [line:3]- INFO - mainModule:calling subModule.subModuleClass.doSomething\n",
      "2024-07-01 09:05:43,134 - mainModule.sub.module:mainModule.sub.module [line:9]- INFO - mainModule.sub.module:do something from mainModule.sub.module\n",
      "2024-07-01 09:05:43,141 - mainModule.sub.module:mainModule.sub.module [line:12]- DEBUG - added 1 to a\n",
      "2024-07-01 09:05:43,148 - mainModule.sub.module:mainModule.sub.module [line:13]- INFO - finish something in mainModule.sub.module\n",
      "2024-07-01 09:05:43,157 - mainModule [line:5]- INFO - mainModule:done with subModule.subModuleClass.doSomething\n",
      "2024-07-01 09:05:43,165 - mainModule [line:6]- INFO - mainModule:calling subModule.some_function\n",
      "2024-07-01 09:05:43,177 - mainModule.sub [line:16]- INFO - mainModule.sub(som_function):call function in som_function\n",
      "2024-07-01 09:05:43,188 - mainModule [line:8]- INFO - mainModule:done with subModule.some_function\n"
     ]
    }
   ],
   "source": [
    "logger.info(\"mainModule:creating an instance of subModule.subModuleClass\")\n",
    "a = subModule.SubModuleClass()\n",
    "logger.info(\"mainModule:calling subModule.subModuleClass.doSomething\")\n",
    "a.doSomething()\n",
    "logger.info(\"mainModule:done with subModule.subModuleClass.doSomething\")\n",
    "logger.info(\"mainModule:calling subModule.some_function\")\n",
    "subModule.som_function()\n",
    "logger.info(\"mainModule:done with subModule.some_function\")"
   ]
  }
 ],
 "metadata": {
  "kernelspec": {
   "display_name": "Python 3",
   "language": "python",
   "name": "python3"
  },
  "language_info": {
   "codemirror_mode": {
    "name": "ipython",
    "version": 3
   },
   "file_extension": ".py",
   "mimetype": "text/x-python",
   "name": "python",
   "nbconvert_exporter": "python",
   "pygments_lexer": "ipython3",
   "version": "3.8.19"
  }
 },
 "nbformat": 4,
 "nbformat_minor": 2
}
