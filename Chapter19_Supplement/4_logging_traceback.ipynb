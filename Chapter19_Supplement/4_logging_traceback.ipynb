{
 "cells": [
  {
   "cell_type": "code",
   "execution_count": 2,
   "metadata": {},
   "outputs": [],
   "source": [
    "import logging\n",
    "logging.basicConfig(level=logging.DEBUG, format='%(asctime)s - %(name)s [line:%(lineno)d]- %(levelname)s - %(message)s')\n",
    "logger = logging.getLogger(__name__)\n"
   ]
  },
  {
   "cell_type": "code",
   "execution_count": 3,
   "metadata": {},
   "outputs": [],
   "source": [
    "handler = logging.FileHandler('./log_document/traceback_log.log')\n",
    "handler.setLevel(logging.DEBUG)\n",
    "formatter = logging.Formatter('%(asctime)s - %(name)s [line:%(lineno)d]- %(levelname)s - %(message)s')\n",
    "handler.setFormatter(formatter)\n",
    "logger.addHandler(handler)"
   ]
  },
  {
   "cell_type": "code",
   "execution_count": 4,
   "metadata": {},
   "outputs": [
    {
     "name": "stderr",
     "output_type": "stream",
     "text": [
      "2024-07-01 09:05:29,151 - __main__ [line:1]- INFO - Start print log\n",
      "2024-07-01 09:05:29,159 - __main__ [line:2]- DEBUG - Do something\n",
      "2024-07-01 09:05:29,166 - __main__ [line:3]- WARNING - Something maybe fail.\n",
      "2024-07-01 09:05:29,173 - __main__ [line:9]- ERROR - Fail to open sketch.txt from logger.exception\n",
      "Traceback (most recent call last):\n",
      "  File \"/tmp/ipykernel_4536/370739813.py\", line 5, in <module>\n",
      "    open(\"sketch.txt\", \"rb\")\n",
      "  File \"/userdata/Li/miniconda3/envs/python_study/lib/python3.8/site-packages/IPython/core/interactiveshell.py\", line 284, in _modified_open\n",
      "    return io_open(file, *args, **kwargs)\n",
      "FileNotFoundError: [Errno 2] No such file or directory: 'sketch.txt'\n",
      "2024-07-01 09:05:29,180 - __main__ [line:10]- INFO - Finish\n"
     ]
    }
   ],
   "source": [
    "logger.info(\"Start print log\")\n",
    "logger.debug(\"Do something\")\n",
    "logger.warning(\"Something maybe fail.\")\n",
    "try:\n",
    "    open(\"sketch.txt\", \"rb\")\n",
    "except (SystemExit, KeyboardInterrupt):\n",
    "    raise\n",
    "except Exception:\n",
    "    logger.exception(\"Fail to open sketch.txt from logger.exception\")\n",
    "logger.info(\"Finish\")"
   ]
  },
  {
   "cell_type": "markdown",
   "metadata": {},
   "source": [
    "这段Python代码是一个异常处理的示例。让我逐个解释每个部分：\n",
    "\n",
    "1. `except (SystemExit, KeyboardInterrupt):`\n",
    "   - 这里是异常处理的第一个 `except` 块。它指定捕获两种特定类型的异常：`SystemExit` 和 `KeyboardInterrupt`。\n",
    "   - `SystemExit` 是当 Python 解释器准备退出时引发的异常。通常情况下，我们不希望捕获并处理 `SystemExit` 异常，因为它指示程序正常退出。\n",
    "   - `KeyboardInterrupt` 是用户在控制台中按下 Ctrl+C 时引发的异常。这通常用于中断程序的执行。\n",
    "   - 在这段代码中，如果捕获到 `SystemExit` 或 `KeyboardInterrupt` 异常，则通过 `raise` 语句将异常重新抛出，这样可以保证程序能够正常退出或被中断。\n",
    "\n",
    "2. `raise`\n",
    "   - 当在 `except` 块中使用 `raise` 语句时，它会重新引发当前正在处理的异常。在这个上下文中，如果捕获到 `SystemExit` 或 `KeyboardInterrupt` 异常，`raise` 语句将重新引发该异常，以便让程序继续执行退出或中断操作。\n",
    "\n",
    "3. `except Exception:`\n",
    "   - 这是异常处理的第二个 `except` 块，用于捕获所有未被上述特定异常处理语句捕获的其他异常。\n",
    "   - `Exception` 是 Python 中所有异常的基类，因此这个 `except` 块将捕获任何未被显式处理的异常。\n",
    "   - 在捕获到其他异常时，代码会调用 `logger.exception(\"Fail to open sketch.txt from logger.exception\")`，这会记录异常信息到日志中，并显示与异常相关的堆栈跟踪信息。\n",
    "\n",
    "综上所述，这段代码的异常处理逻辑包括：\n",
    "- 首先捕获 `SystemExit` 和 `KeyboardInterrupt` 异常，并通过 `raise` 语句重新引发这些异常，以确保程序可以正常退出或被中断。\n",
    "- 如果捕获到除 `SystemExit` 和 `KeyboardInterrupt` 之外的任何其他异常，则记录异常信息到日志中，并包含堆栈跟踪信息以便后续调试和分析。"
   ]
  }
 ],
 "metadata": {
  "kernelspec": {
   "display_name": "Python 3",
   "language": "python",
   "name": "python3"
  },
  "language_info": {
   "codemirror_mode": {
    "name": "ipython",
    "version": 3
   },
   "file_extension": ".py",
   "mimetype": "text/x-python",
   "name": "python",
   "nbconvert_exporter": "python",
   "pygments_lexer": "ipython3",
   "version": "3.8.19"
  }
 },
 "nbformat": 4,
 "nbformat_minor": 2
}
