{
 "cells": [
  {
   "cell_type": "code",
   "execution_count": null,
   "metadata": {},
   "outputs": [],
   "source": [
    "import sys\n",
    "import os\n",
    "\n",
    "current_path = os.path.abspath(sys.argv[0])\n",
    "print(\"Current file path:\", current_path)"
   ]
  },
  {
   "cell_type": "code",
   "execution_count": 4,
   "metadata": {},
   "outputs": [
    {
     "name": "stdout",
     "output_type": "stream",
     "text": [
      "__main__\n"
     ]
    }
   ],
   "source": [
    "import logging\n",
    "from logging.handlers import RotatingFileHandler\n",
    "\n",
    "logging.basicConfig(level=logging.DEBUG, format='%(asctime)s - %(name)s [line:%(lineno)d]- %(levelname)s - %(message)s')\n",
    "logger = logging.getLogger(__name__)\n",
    "print(__name__)"
   ]
  },
  {
   "cell_type": "code",
   "execution_count": 5,
   "metadata": {},
   "outputs": [],
   "source": [
    "rhandler = RotatingFileHandler('RotatingFileHandler_test.log', maxBytes=1*1024, backupCount=3)\n",
    "rhandler.setLevel(logging.DEBUG)\n",
    "formatter= logging.Formatter('%(asctime)s - %(name)s [line:%(lineno)d]- %(levelname)s - %(message)s')\n",
    "rhandler.setFormatter(formatter)\n",
    "\n",
    "logger.addHandler(rhandler)"
   ]
  },
  {
   "cell_type": "code",
   "execution_count": 6,
   "metadata": {},
   "outputs": [
    {
     "name": "stderr",
     "output_type": "stream",
     "text": [
      "2024-07-01 07:45:34,697 - __main__ [line:1]- INFO - Start print log\n",
      "2024-07-01 07:45:34,703 - __main__ [line:2]- DEBUG - Do something\n",
      "2024-07-01 07:45:34,713 - __main__ [line:3]- WARNING - Something maybe fail.\n",
      "2024-07-01 07:45:34,725 - __main__ [line:4]- INFO - Finish\n"
     ]
    }
   ],
   "source": [
    "logger.info(\"Start print log\")\n",
    "logger.debug(\"Do something\")\n",
    "logger.warning(\"Something maybe fail.\")\n",
    "logger.info(\"Finish\")"
   ]
  }
 ],
 "metadata": {
  "kernelspec": {
   "display_name": "Python 3",
   "language": "python",
   "name": "python3"
  },
  "language_info": {
   "codemirror_mode": {
    "name": "ipython",
    "version": 3
   },
   "file_extension": ".py",
   "mimetype": "text/x-python",
   "name": "python",
   "nbconvert_exporter": "python",
   "pygments_lexer": "ipython3",
   "version": "3.8.19"
  }
 },
 "nbformat": 4,
 "nbformat_minor": 2
}
