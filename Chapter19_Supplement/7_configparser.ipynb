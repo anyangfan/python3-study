{
 "cells": [
  {
   "cell_type": "code",
   "execution_count": 203,
   "metadata": {},
   "outputs": [
    {
     "name": "stdout",
     "output_type": "stream",
     "text": [
      "/userdata/Li/miniconda3/envs/python_study/lib/python3.8/site-packages/ipykernel_launcher.py\n",
      "/userdata/Li/miniconda3/envs/python_study/lib/python3.8/site-packages\n"
     ]
    }
   ],
   "source": [
    "import os, sys\n",
    "currentPath = os.path.abspath(sys.argv[0])\n",
    "print(currentPath)\n",
    "currentDir = os.path.dirname(currentPath)\n",
    "print(currentDir)"
   ]
  },
  {
   "cell_type": "code",
   "execution_count": 204,
   "metadata": {},
   "outputs": [],
   "source": [
    "import configparser, os\n",
    "\n",
    "class Conf:\n",
    "    def __init__(self, config_file):\n",
    "        #判断config_file是否存在\n",
    "        if config_file != None and not os.path.exists(config_file):\n",
    "            print(\"gived config file not exists\")\n",
    "        else:\n",
    "            config_file = './config.conf'\n",
    "            if not os.path.exists(config_file):\n",
    "                raise Exception(\"default config file not exists\")\n",
    "        \n",
    "        self.config_file = config_file\n",
    "        self.config = configparser.ConfigParser()\n",
    "        self.config.read(config_file)\n",
    "\n",
    "    def read_sections(self):\n",
    "        print(f\"1.1. 获取所有的sections {self.config.sections()}\")\n",
    "        print(\"1.2. 获取所有的sections {sections}\".format(sections=self.config.sections()))\n",
    "\n",
    "    def read_options(self, section):\n",
    "        print(f\"2.1. 获取指定section({section})的所有options {self.config.options(section)}\")\n",
    "        print(\"2.2 获取指定section({section})的所有options {options}\".format(section=section,options=self.config.options(section)))\n",
    "\n",
    "    def read_conf(self,section,option):\n",
    "        value = self.config.get(section,option)\n",
    "        print(f\"3.1 获取指定section的指定option的值 {value}\")\n",
    "        return value\n",
    "    \n",
    "    def get_items(self,section):\n",
    "        print(f\"4.1获取指定section(section)的所有键值对(f关键字) {self.config.items(section)}\")\n",
    "        print(\"4.2获取指定section(section)的所有键值对(format形式){items}\".format(section=section,items=self.config.items(section)))\n",
    "        # 使用字典推导式将列表转换为字典\n",
    "        result_dict = {item[0]: item[1] for item in self.config.items(section)}\n",
    "        dict_function = dict(self.config.items(section))\n",
    "        print(f\"4.3使用字典推导式将列表转换为字典:{result_dict}\")\n",
    "        print(f\"4.4使用dict函数将列表转换为字典:{dict_function}\")\n",
    "        print(\"\\n\")\n",
    "    \n",
    "    def set_option(self,section,option,value):\n",
    "        self.config.set(section,option,value)\n",
    "        self.config.write(open(self.config_file,'w'))\n",
    "        print(f\"5.1 设置指定section({section})的指定option({option})的值 {value}\")\n",
    "\n",
    "    def has_s_o(self,section,option):\n",
    "        if not self.config.has_section(section):\n",
    "            print(f\"6.1指定section({section})不存在\")\n",
    "        else:\n",
    "            if not self.config.has_option(section,option):\n",
    "                print(f\"6.2指定option({option})不存在\")\n",
    "            else:\n",
    "                print(f\"6.2指定section({section})的option({option})存在\")\n",
    "    \n",
    "    def add_s_o(self,section,option,value):\n",
    "        if not self.config.has_section(section):\n",
    "            self.config.add_section(section)\n",
    "            print(f\"7.1 添加section({section})\")\n",
    "        else:\n",
    "            print(f\"7.1 section({section})已存在\")\n",
    "\n",
    "        if not self.config.has_option(section,option):\n",
    "            self.config.set(section,option,value)\n",
    "            print(f\"7.2 在section({section})添加option({option})value值为{value}\")\n",
    "        else:\n",
    "            print(f\"7.2 section({section}):option({option})已存在\")\n",
    "            if self.read_conf(section,option) != value:\n",
    "                #print(f\"7.3 更新section({section})的option({option})的值为{value}\")\n",
    "                self.set_option(section,option,value)\n",
    "        \n",
    "        self.config.write(open(self.config_file,'w'))\n",
    "\n",
    "        "
   ]
  },
  {
   "cell_type": "code",
   "execution_count": 205,
   "metadata": {},
   "outputs": [],
   "source": [
    "conf = Conf(config_file='./config.conf')"
   ]
  },
  {
   "cell_type": "code",
   "execution_count": 206,
   "metadata": {},
   "outputs": [
    {
     "name": "stdout",
     "output_type": "stream",
     "text": [
      "1.1. 获取所有的sections ['mysqldb', 'mailinfo']\n",
      "1.2. 获取所有的sections ['mysqldb', 'mailinfo']\n",
      "2.1. 获取指定section(mysqldb)的所有options ['sql_host', 'sql_port', 'sql_pass', 'sql_user']\n",
      "2.2 获取指定section(mysqldb)的所有options ['sql_host', 'sql_port', 'sql_pass', 'sql_user']\n",
      "2.1. 获取指定section(mailinfo)的所有options ['name', 'passwd', 'address']\n",
      "2.2 获取指定section(mailinfo)的所有options ['name', 'passwd', 'address']\n"
     ]
    }
   ],
   "source": [
    "\n",
    "conf.read_sections()\n",
    "conf.read_options('mysqldb')\n",
    "conf.read_options('mailinfo')"
   ]
  },
  {
   "cell_type": "code",
   "execution_count": 207,
   "metadata": {},
   "outputs": [
    {
     "name": "stdout",
     "output_type": "stream",
     "text": [
      "3.1 获取指定section的指定option的值 192.168.1.16\n"
     ]
    },
    {
     "data": {
      "text/plain": [
       "'192.168.1.16'"
      ]
     },
     "execution_count": 207,
     "metadata": {},
     "output_type": "execute_result"
    }
   ],
   "source": [
    "conf.read_conf('mysqldb','sql_host')"
   ]
  },
  {
   "cell_type": "code",
   "execution_count": 208,
   "metadata": {},
   "outputs": [
    {
     "name": "stdout",
     "output_type": "stream",
     "text": [
      "4.1获取指定section(section)的所有键值对(f关键字) [('sql_host', '192.168.1.16'), ('sql_port', '3699'), ('sql_pass', '123456'), ('sql_user', 'Andy')]\n",
      "4.2获取指定section(section)的所有键值对(format形式)[('sql_host', '192.168.1.16'), ('sql_port', '3699'), ('sql_pass', '123456'), ('sql_user', 'Andy')]\n",
      "4.3使用字典推导式将列表转换为字典:{'sql_host': '192.168.1.16', 'sql_port': '3699', 'sql_pass': '123456', 'sql_user': 'Andy'}\n",
      "4.4使用dict函数将列表转换为字典:{'sql_host': '192.168.1.16', 'sql_port': '3699', 'sql_pass': '123456', 'sql_user': 'Andy'}\n",
      "\n",
      "\n",
      "4.1获取指定section(section)的所有键值对(f关键字) [('name', 'NoamaNelson'), ('passwd', '123456'), ('address', '123456@qq.com')]\n",
      "4.2获取指定section(section)的所有键值对(format形式)[('name', 'NoamaNelson'), ('passwd', '123456'), ('address', '123456@qq.com')]\n",
      "4.3使用字典推导式将列表转换为字典:{'name': 'NoamaNelson', 'passwd': '123456', 'address': '123456@qq.com'}\n",
      "4.4使用dict函数将列表转换为字典:{'name': 'NoamaNelson', 'passwd': '123456', 'address': '123456@qq.com'}\n",
      "\n",
      "\n"
     ]
    }
   ],
   "source": [
    "conf.get_items('mysqldb')\n",
    "conf.get_items('mailinfo')"
   ]
  },
  {
   "cell_type": "code",
   "execution_count": 209,
   "metadata": {},
   "outputs": [
    {
     "name": "stdout",
     "output_type": "stream",
     "text": [
      "3.1 获取指定section的指定option的值 192.168.1.16\n",
      "5.1 设置指定section(mysqldb)的指定option(sql_host)的值 192.168.1.16\n"
     ]
    }
   ],
   "source": [
    "conf.read_conf('mysqldb','sql_host')\n",
    "conf.set_option('mysqldb','sql_host','192.168.1.16')"
   ]
  },
  {
   "cell_type": "code",
   "execution_count": 210,
   "metadata": {},
   "outputs": [
    {
     "name": "stdout",
     "output_type": "stream",
     "text": [
      "6.2指定option(host)不存在\n",
      "6.2指定section(mysqldb)的option(sql_host)存在\n"
     ]
    }
   ],
   "source": [
    "conf.has_s_o('mysqldb','host')\n",
    "conf.has_s_o('mysqldb','sql_host')"
   ]
  },
  {
   "cell_type": "code",
   "execution_count": 211,
   "metadata": {},
   "outputs": [
    {
     "name": "stdout",
     "output_type": "stream",
     "text": [
      "7.1 section(mysqldb)已存在\n",
      "7.2 section(mysqldb):option(sql_user)已存在\n",
      "3.1 获取指定section的指定option的值 Andy\n",
      "5.1 设置指定section(mysqldb)的指定option(sql_user)的值 root\n",
      "7.1 section(mysqldb)已存在\n",
      "7.2 section(mysqldb):option(sql_user)已存在\n",
      "3.1 获取指定section的指定option的值 root\n",
      "5.1 设置指定section(mysqldb)的指定option(sql_user)的值 Andy\n"
     ]
    }
   ],
   "source": [
    "conf.add_s_o('mysqldb','sql_user','root')\n",
    "conf.add_s_o('mysqldb','sql_user','Andy')"
   ]
  },
  {
   "cell_type": "code",
   "execution_count": null,
   "metadata": {},
   "outputs": [],
   "source": []
  }
 ],
 "metadata": {
  "kernelspec": {
   "display_name": "Python 3",
   "language": "python",
   "name": "python3"
  },
  "language_info": {
   "codemirror_mode": {
    "name": "ipython",
    "version": 3
   },
   "file_extension": ".py",
   "mimetype": "text/x-python",
   "name": "python",
   "nbconvert_exporter": "python",
   "pygments_lexer": "ipython3",
   "version": "3.8.19"
  }
 },
 "nbformat": 4,
 "nbformat_minor": 2
}
