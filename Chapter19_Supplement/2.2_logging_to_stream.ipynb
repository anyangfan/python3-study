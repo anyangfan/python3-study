{
 "cells": [
  {
   "cell_type": "code",
   "execution_count": 1,
   "metadata": {},
   "outputs": [
    {
     "name": "stdout",
     "output_type": "stream",
     "text": [
      "__main__\n"
     ]
    }
   ],
   "source": [
    "import logging\n",
    "logging.basicConfig(level=logging.DEBUG, format='%(asctime)s - %(name)s [line:%(lineno)d]- %(levelname)s - %(message)s')\n",
    "logger = logging.getLogger(__name__)\n",
    "print(__name__)\n",
    "\n",
    "console = logging.StreamHandler()\n",
    "console.setLevel(logging.DEBUG)\n",
    "\n",
    "logger.addHandler(console)"
   ]
  },
  {
   "cell_type": "code",
   "execution_count": 2,
   "metadata": {},
   "outputs": [
    {
     "name": "stderr",
     "output_type": "stream",
     "text": [
      "Start print log\n",
      "2024-07-01 06:53:43,118 - __main__ [line:1]- INFO - Start print log\n",
      "Do something\n",
      "2024-07-01 06:53:43,138 - __main__ [line:2]- DEBUG - Do something\n",
      "Something maybe fail.\n",
      "2024-07-01 06:53:43,152 - __main__ [line:3]- WARNING - Something maybe fail.\n",
      "Finish\n",
      "2024-07-01 06:53:43,163 - __main__ [line:4]- INFO - Finish\n"
     ]
    }
   ],
   "source": [
    "logger.info(\"Start print log\")\n",
    "logger.debug(\"Do something\")\n",
    "logger.warning(\"Something maybe fail.\")\n",
    "logger.info(\"Finish\")"
   ]
  }
 ],
 "metadata": {
  "kernelspec": {
   "display_name": "Python 3",
   "language": "python",
   "name": "python3"
  },
  "language_info": {
   "codemirror_mode": {
    "name": "ipython",
    "version": 3
   },
   "file_extension": ".py",
   "mimetype": "text/x-python",
   "name": "python",
   "nbconvert_exporter": "python",
   "pygments_lexer": "ipython3",
   "version": "3.8.19"
  }
 },
 "nbformat": 4,
 "nbformat_minor": 2
}
