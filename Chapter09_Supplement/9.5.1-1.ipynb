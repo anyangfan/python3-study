{
 "cells": [
  {
   "cell_type": "code",
   "execution_count": 18,
   "metadata": {},
   "outputs": [],
   "source": [
    "class Rectangle_1:\n",
    "    def __init__(self, width=0, height=0):\n",
    "        self.width = width\n",
    "        self.height = height\n",
    "    def set_size_1(self, width, height):\n",
    "        self.width = width\n",
    "        self.height = height\n",
    "    def set_size_2(self, size):\n",
    "        self.width, self.height = size\n",
    "    def get_size(self):\n",
    "        return self.width, self.height\n",
    "    size = property(get_size, set_size_1)"
   ]
  },
  {
   "cell_type": "markdown",
   "metadata": {},
   "source": [
    "在这个代码中，set_size_2(self, size)方法是一个特殊的方法，用于将size这个元组中的值分别赋给self.width和self.height。\n",
    "具体来说，在这个方法中，参数size被传递进来，假设size是一个包含两个元素的元组，例如(10, 20)\n",
    "\n",
    "在这个代码中，size = property(get_size, set_size_1) 创建了一个名为size的property。\n",
    "property是一种特殊的属性，它允许我们在访问或设置对象的属性时执行特定的方法。在这个例子中，property包含了get_size和set_size_1两个方法。\n",
    "具体来说，get_size方法用于获取矩形的尺寸，而set_size_1方法用于设置矩形的尺寸。通过将这两个方法作为参数传递给property函数，我们创建了一个名为size的property，使得我们可以通过size来访问和设置矩形的尺寸。\n",
    "当我们访问size属性时，get_size方法会被调用，返回矩形的尺寸。当我们设置size属性时，set_size_1方法会被调用，用于设置矩形的尺寸。\n",
    "总之，通过使用property函数，我们可以将get_size和set_size_1方法与属性size关联起来，从而实现对矩形尺寸的访问和设置。"
   ]
  },
  {
   "cell_type": "code",
   "execution_count": 19,
   "metadata": {},
   "outputs": [
    {
     "name": "stdout",
     "output_type": "stream",
     "text": [
      "(4, 5)\n",
      "(4, 5)\n"
     ]
    },
    {
     "ename": "TypeError",
     "evalue": "set_size_1() missing 1 required positional argument: 'height'",
     "output_type": "error",
     "traceback": [
      "\u001b[0;31m---------------------------------------------------------------------------\u001b[0m",
      "\u001b[0;31mTypeError\u001b[0m                                 Traceback (most recent call last)",
      "Cell \u001b[0;32mIn[19], line 4\u001b[0m\n\u001b[1;32m      2\u001b[0m \u001b[38;5;28mprint\u001b[39m(r\u001b[38;5;241m.\u001b[39msize)\n\u001b[1;32m      3\u001b[0m \u001b[38;5;28mprint\u001b[39m(r\u001b[38;5;241m.\u001b[39mget_size())\n\u001b[0;32m----> 4\u001b[0m \u001b[43mr\u001b[49m\u001b[38;5;241;43m.\u001b[39;49m\u001b[43msize\u001b[49m\u001b[38;5;241m=\u001b[39m\u001b[38;5;241m100\u001b[39m,\u001b[38;5;241m200\u001b[39m\n\u001b[1;32m      5\u001b[0m \u001b[38;5;28mprint\u001b[39m(r\u001b[38;5;241m.\u001b[39msize)\n\u001b[1;32m      6\u001b[0m \u001b[38;5;28mprint\u001b[39m(r\u001b[38;5;241m.\u001b[39mget_size())\n",
      "\u001b[0;31mTypeError\u001b[0m: set_size_1() missing 1 required positional argument: 'height'"
     ]
    }
   ],
   "source": [
    "r=Rectangle_1(4,5)\n",
    "print(r.size)\n",
    "print(r.get_size())\n",
    "r.size=100,200\n",
    "print(r.size)\n",
    "print(r.get_size())\n"
   ]
  },
  {
   "cell_type": "markdown",
   "metadata": {},
   "source": [
    "当执行r.size = 100, 200时会出现错误。这是因为在Python中，当您使用等号来设置属性时，如果属性是一个元组，Python会尝试将等号右边的值解压缩成元组，然后将解压缩后的值作为参数传递给set_size_1方法。\n",
    "\n",
    "在这种情况下，Python会将100, 200解压缩成元组(100, 200)，然后尝试将这个元组作为参数传递给set_size_1方法。但是，set_size_1方法期望两个参数，因此会报错。\n",
    "为了避免这个错误，您可以修改set_size_1方法，使其接受一个元组作为参数，或者修改set_size_2方法来接受两个参数\n",
    "\n",
    "正确使用方案请参考9.5.2-2.ipynb"
   ]
  }
 ],
 "metadata": {
  "kernelspec": {
   "display_name": "Python 3",
   "language": "python",
   "name": "python3"
  },
  "language_info": {
   "codemirror_mode": {
    "name": "ipython",
    "version": 3
   },
   "file_extension": ".py",
   "mimetype": "text/x-python",
   "name": "python",
   "nbconvert_exporter": "python",
   "pygments_lexer": "ipython3",
   "version": "3.8.19"
  }
 },
 "nbformat": 4,
 "nbformat_minor": 2
}
