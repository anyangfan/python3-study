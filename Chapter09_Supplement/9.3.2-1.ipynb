{
 "cells": [
  {
   "cell_type": "code",
   "execution_count": 15,
   "metadata": {},
   "outputs": [],
   "source": [
    "class CounterList(list):\n",
    "    def __init__(self, *args):\n",
    "        super().__init__(*args)\n",
    "        self.counter = 0\n",
    "    def __getitem__(self, index):\n",
    "        self.counter += 1\n",
    "        return super(CounterList, self).__getitem__(index)"
   ]
  },
  {
   "cell_type": "markdown",
   "metadata": {},
   "source": [
    "1. 代码解释:\n",
    "   - 这是一个自定义的类CounterList，它继承自内置的list类。\n",
    "   - 在初始化方法\\_\\_init\\_\\_中，使用super()函数调用父类的\\_\\_init\\_\\_方法，并对counter属性进行初始化，设置为0。\n",
    "   - 重写了\\_\\_getitem\\_\\_方法，每次获取列表中的元素时，counter属性会加1。\n",
    "\n",
    "2. def \\_\\_getitem\\_\\_(self, index)方法:\n",
    "   - 这是一个特殊方法，用于定义获取对象的行为。在这个例子中，它被重写以实现计数器的功能。\n",
    "   - 它接收一个index参数，表示要获取的元素的索引。\n",
    "   - 在这个方法中，它使用super()函数调用父类的\\_\\_getitem\\_\\_方法来获取指定索引的元素，并在获取前增加counter的值。\n",
    "\n",
    "3. super(CounterList, self).\\_\\_getitem\\_\\_(index)中的知识:\n",
    "   - super()函数用于调用父类的方法。在这里，它调用CounterList类的父类（即list类）的\\_\\_getitem\\_\\_方法。\n",
    "   - super()函数需要两个参数，第一个参数是当前类的类名，第二个参数是当前对象self。\n",
    "   - 调用父类方法后，返回父类方法的执行结果，即获取到的列表中的元素。"
   ]
  },
  {
   "cell_type": "code",
   "execution_count": 19,
   "metadata": {},
   "outputs": [
    {
     "name": "stdout",
     "output_type": "stream",
     "text": [
      "[0, 1, 2, 3, 4, 5, 6, 7, 8, 9]\n",
      "None\n",
      "[9, 8, 7, 6, 5, 4, 3, 2, 1, 0]\n",
      "0\n",
      "12\n",
      "2\n"
     ]
    }
   ],
   "source": [
    "cl = CounterList(range(10))\n",
    "print(cl)\n",
    "print(cl.reverse())\n",
    "###如果想要正确打印反转后的列表，应该先调用reverse()方法，然后再打印列表本身，而不是打印reverse()方法的返回值。\n",
    "print(cl)\n",
    "print(cl.counter)\n",
    "print(cl[4] + cl[2])\n",
    "print(cl.counter)"
   ]
  },
  {
   "cell_type": "code",
   "execution_count": 17,
   "metadata": {},
   "outputs": [
    {
     "name": "stdout",
     "output_type": "stream",
     "text": [
      "[0, 1, 2, 3, 4, 5, 6, 7, 8, 9]\n",
      "[9, 8, 7, 6, 5, 4, 3, 2, 1, 0]\n"
     ]
    }
   ],
   "source": [
    "testList=list(range(10))\n",
    "print(testList)\n",
    "testList.reverse()\n",
    "print(testList)"
   ]
  }
 ],
 "metadata": {
  "kernelspec": {
   "display_name": "Python 3",
   "language": "python",
   "name": "python3"
  },
  "language_info": {
   "codemirror_mode": {
    "name": "ipython",
    "version": 3
   },
   "file_extension": ".py",
   "mimetype": "text/x-python",
   "name": "python",
   "nbconvert_exporter": "python",
   "pygments_lexer": "ipython3",
   "version": "3.8.19"
  }
 },
 "nbformat": 4,
 "nbformat_minor": 2
}
