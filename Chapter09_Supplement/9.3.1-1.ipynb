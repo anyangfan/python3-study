{
 "cells": [
  {
   "cell_type": "code",
   "execution_count": 1,
   "metadata": {},
   "outputs": [],
   "source": [
    "def check_index(key):\n",
    "    \"\"\"\n",
    "    isinstance 是 Python 中的一个内置函数，如果指定的对象属于指定的类型，则返回 True，否则返回 False。\n",
    "    TypeErro 和 IndexError 是 Python 中的内置异常。TypeErro 在对不适当类型的对象应用操作或函数时引发，而 IndexError 则在序列下标超出范围时引发。\n",
    "    \"\"\"\n",
    "    if not isinstance(key,int):raise TypeErro\n",
    "    if key<0:raise IndexError       "
   ]
  },
  {
   "cell_type": "code",
   "execution_count": 2,
   "metadata": {},
   "outputs": [
    {
     "data": {
      "text/plain": [
       "'\\n    isinstance 是 Python 中的一个内置函数，如果指定的对象属于指定的类型，则返回 True，否则返回 False。\\n    TypeErro 和 IndexError 是 Python 中的内置异常。TypeErro 在对不适当类型的对象应用操作或函数时引发，而 IndexError 则在序列下标超出范围时引发。\\n    '"
      ]
     },
     "execution_count": 2,
     "metadata": {},
     "output_type": "execute_result"
    }
   ],
   "source": [
    "check_index.__doc__"
   ]
  },
  {
   "cell_type": "code",
   "execution_count": 3,
   "metadata": {},
   "outputs": [],
   "source": [
    "class ArithmeticSequence:\n",
    "    def __init__(self,start=0,step=1):\n",
    "        self.start=start\n",
    "        self.step=step\n",
    "        self.changed={}\n",
    "    def __getitem__(self,key):\n",
    "        check_index(key)\n",
    "        try:return self.changed[key]\n",
    "        except KeyError:\n",
    "            return self.start+key*self.step\n",
    "    def __setitem__(self,key,value):\n",
    "        check_index(key)\n",
    "        self.changed[key]=value"
   ]
  },
  {
   "cell_type": "code",
   "execution_count": 9,
   "metadata": {},
   "outputs": [
    {
     "name": "stdout",
     "output_type": "stream",
     "text": [
      "5\n"
     ]
    }
   ],
   "source": [
    "s=ArithmeticSequence(1,2)\n",
    "print(s[2])"
   ]
  }
 ],
 "metadata": {
  "kernelspec": {
   "display_name": "Python 3",
   "language": "python",
   "name": "python3"
  },
  "language_info": {
   "codemirror_mode": {
    "name": "ipython",
    "version": 3
   },
   "file_extension": ".py",
   "mimetype": "text/x-python",
   "name": "python",
   "nbconvert_exporter": "python",
   "pygments_lexer": "ipython3",
   "version": "3.8.19"
  }
 },
 "nbformat": 4,
 "nbformat_minor": 2
}
