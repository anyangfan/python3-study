{
 "cells": [
  {
   "cell_type": "code",
   "execution_count": null,
   "metadata": {},
   "outputs": [],
   "source": [
    "from subprocess import Popen, PIPE                      #导入了`subprocess`模块中的`Popen`和`PIPE`类。`Popen`用于执行外部命令，`PIPE`用于创建管道以进行进程间通信。\n",
    "text = open('messy.txt').read()                         #打开名为`messy.txt`的文本文件，并将其内容读取到变量`text`中。\n",
    "tidy = Popen(\"tidy\",stdin=PIPE,stdout=PIPE,stderr=PIPE) #使用`Popen`类创建一个名为`tidy`的子进程，该进程将执行命令`tidy`。`stdin=PIPE`表示该进程的标准输入管道将从Python程序中接收数据，`stdout=PIPE`表示标准输出将通过管道返回给Python程序，`stderr=PIPE`表示标准错误也通过管道返回给Python程序。\n",
    "tidy.stdin.write(text.encode())                         #将变量`text`中的文本内容编码为字节，并写入到`tidy`进程的标准输入管道中。\n",
    "tidy.stdin.close()                                      #关闭`tidy`进程的标准输入管道，表示已经向进程发送完所有数据。\n",
    "print(tidy.stdout.read().decode())                      #从`tidy`进程的标准输出管道中读取数据，使用`.decode()`将字节解码为字符串，并将结果打印输出到控制台。\n"
   ]
  }
 ],
 "metadata": {
  "language_info": {
   "name": "python"
  }
 },
 "nbformat": 4,
 "nbformat_minor": 2
}
